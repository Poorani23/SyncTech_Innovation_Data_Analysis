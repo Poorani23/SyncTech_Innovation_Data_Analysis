{
  "nbformat": 4,
  "nbformat_minor": 0,
  "metadata": {
    "colab": {
      "provenance": [],
      "authorship_tag": "ABX9TyNIwCISrTid8Dy93JjPAxGV",
      "include_colab_link": true
    },
    "kernelspec": {
      "name": "python3",
      "display_name": "Python 3"
    },
    "language_info": {
      "name": "python"
    }
  },
  "cells": [
    {
      "cell_type": "markdown",
      "metadata": {
        "id": "view-in-github",
        "colab_type": "text"
      },
      "source": [
        "<a href=\"https://colab.research.google.com/github/Poorani23/SyncTech_Innovation_Data_Analysis/blob/main/Autocomplete_and_Autocorrect_Data_Analytics_(Level_2(P5)).ipynb\" target=\"_parent\"><img src=\"https://colab.research.google.com/assets/colab-badge.svg\" alt=\"Open In Colab\"/></a>"
      ]
    },
    {
      "cell_type": "code",
      "execution_count": null,
      "metadata": {
        "id": "MXk_5Hi6WwdM"
      },
      "outputs": [],
      "source": [
        "import nltk\n",
        "from nltk.corpus import brown"
      ]
    },
    {
      "cell_type": "code",
      "source": [
        "nltk.download('brown')\n",
        "nltk.download('punkt')"
      ],
      "metadata": {
        "colab": {
          "base_uri": "https://localhost:8080/"
        },
        "id": "McG3EKicXcYm",
        "outputId": "6e4e25d7-c650-4242-8bb2-8404a10aca67"
      },
      "execution_count": null,
      "outputs": [
        {
          "output_type": "stream",
          "name": "stderr",
          "text": [
            "[nltk_data] Downloading package brown to /root/nltk_data...\n",
            "[nltk_data]   Unzipping corpora/brown.zip.\n",
            "[nltk_data] Downloading package punkt to /root/nltk_data...\n",
            "[nltk_data]   Unzipping tokenizers/punkt.zip.\n"
          ]
        },
        {
          "output_type": "execute_result",
          "data": {
            "text/plain": [
              "True"
            ]
          },
          "metadata": {},
          "execution_count": 2
        }
      ]
    },
    {
      "cell_type": "code",
      "source": [
        "data = brown.words('/content/creditcard.csv')\n",
        "data = ' '.join(data)"
      ],
      "metadata": {
        "id": "31eDjY4bXhK1"
      },
      "execution_count": null,
      "outputs": []
    },
    {
      "cell_type": "code",
      "source": [
        "import re\n",
        "import string"
      ],
      "metadata": {
        "id": "25ar3HHIXkqy"
      },
      "execution_count": null,
      "outputs": []
    },
    {
      "cell_type": "code",
      "source": [
        "def clean_text(text):\n",
        "    text = text.lower()\n",
        "    text = re.sub(f\"[{re.escape(string.punctuation)}]\", \"\", text)\n",
        "    text = re.sub(r'\\s+', ' ', text).strip()\n",
        "    return text\n",
        "\n",
        "cleaned_data = clean_text(data)\n",
        "words = nltk.word_tokenize(cleaned_data)"
      ],
      "metadata": {
        "id": "q4M_dax4XpQJ"
      },
      "execution_count": null,
      "outputs": []
    },
    {
      "cell_type": "code",
      "source": [
        "from collections import defaultdict, Counter"
      ],
      "metadata": {
        "id": "pxJPBv1DXteJ"
      },
      "execution_count": null,
      "outputs": []
    },
    {
      "cell_type": "code",
      "source": [
        "def generate_ngrams(words, n):\n",
        "    ngrams = zip(*[words[i:] for i in range(n)])\n",
        "    return [\" \".join(ngram) for ngram in ngrams]"
      ],
      "metadata": {
        "id": "gF1KCCstXzLq"
      },
      "execution_count": null,
      "outputs": []
    },
    {
      "cell_type": "code",
      "source": [
        "unigrams = words\n",
        "bigrams = generate_ngrams(words, 2)\n",
        "trigrams = generate_ngrams(words, 3)\n",
        "\n",
        "bigram_model = defaultdict(Counter)\n",
        "trigram_model = defaultdict(Counter)\n",
        "\n",
        "for bigram in bigrams:\n",
        "    w1, w2 = bigram.split()\n",
        "    bigram_model[w1][w2] += 1\n",
        "\n",
        "for trigram in trigrams:\n",
        "    w1, w2, w3 = trigram.split()\n",
        "    trigram_model[(w1, w2)][w3] += 1"
      ],
      "metadata": {
        "id": "yAAhp0rwX6ox"
      },
      "execution_count": null,
      "outputs": []
    },
    {
      "cell_type": "code",
      "source": [
        "def autocomplete(prefix, n=3):\n",
        "    prefix_words = prefix.split()\n",
        "    if len(prefix_words) == 1:\n",
        "        suggestions = bigram_model[prefix_words[0]].most_common(n)\n",
        "    else:\n",
        "        suggestions = trigram_model[(prefix_words[-2], prefix_words[-1])].most_common(n)\n",
        "    return [word for word, _ in suggestions]"
      ],
      "metadata": {
        "id": "bOBQUBrhX_iJ"
      },
      "execution_count": null,
      "outputs": []
    },
    {
      "cell_type": "code",
      "source": [
        "from nltk.metrics.distance import edit_distance"
      ],
      "metadata": {
        "id": "MLyYr7M9YGar"
      },
      "execution_count": null,
      "outputs": []
    },
    {
      "cell_type": "code",
      "source": [
        "def autocorrect(word, vocab, n=3):\n",
        "    suggestions = sorted(vocab, key=lambda w: edit_distance(word, w))[:n]\n",
        "    return suggestions\n",
        "\n",
        "vocab = set(unigrams)"
      ],
      "metadata": {
        "id": "rumQgyjVYMhV"
      },
      "execution_count": null,
      "outputs": []
    },
    {
      "cell_type": "code",
      "source": [
        "from sklearn.model_selection import train_test_split\n",
        "from sklearn.metrics import accuracy_score"
      ],
      "metadata": {
        "id": "dcr2mxGIYNmi"
      },
      "execution_count": null,
      "outputs": []
    },
    {
      "cell_type": "code",
      "source": [
        "X, y = zip(*[(bigram.split()[0], bigram.split()[1]) for bigram in bigrams])\n",
        "X_train, X_test, y_train, y_test = train_test_split(X, y, test_size=0.2, random_state=42)"
      ],
      "metadata": {
        "id": "N84wLvuuYQMT"
      },
      "execution_count": null,
      "outputs": []
    },
    {
      "cell_type": "code",
      "source": [
        "def evaluate_autocomplete(X_test, y_test):\n",
        "    predictions = [autocomplete(x, 1)[0] if autocomplete(x, 1) else '' for x in X_test]\n",
        "    accuracy = accuracy_score(y_test, predictions)\n",
        "    return accuracy\n",
        "\n",
        "autocomplete_accuracy = evaluate_autocomplete(X_test, y_test)\n",
        "print(f\"Autocomplete Accuracy: {autocomplete_accuracy}\")"
      ],
      "metadata": {
        "colab": {
          "base_uri": "https://localhost:8080/"
        },
        "id": "rjsd2njeYTyu",
        "outputId": "9cfe6166-ab13-47db-c351-1c938265e818"
      },
      "execution_count": null,
      "outputs": [
        {
          "output_type": "stream",
          "name": "stdout",
          "text": [
            "Autocomplete Accuracy: 0.9977148080438757\n"
          ]
        }
      ]
    },
    {
      "cell_type": "code",
      "source": [
        "user_feedback = {\n",
        "    'ease_of_use': 4.5,\n",
        "    'accuracy': 4.0,\n",
        "    'speed': 4.2\n",
        "}"
      ],
      "metadata": {
        "id": "PsPnLuugYZ0i"
      },
      "execution_count": null,
      "outputs": []
    },
    {
      "cell_type": "code",
      "source": [
        "def compare_models():\n",
        "    unigram_accuracy = autocomplete_accuracy\n",
        "    bigram_accuracy = evaluate_autocomplete(X_test, y_test)\n",
        "    trigram_accuracy = evaluate_autocomplete(X_test, y_test)\n",
        "\n",
        "    return {\n",
        "        'unigram': unigram_accuracy,\n",
        "        'bigram': bigram_accuracy,\n",
        "        'trigram': trigram_accuracy\n",
        "    }\n",
        "\n",
        "model_comparison = compare_models()\n",
        "print(\"Model Comparison: \", model_comparison)"
      ],
      "metadata": {
        "colab": {
          "base_uri": "https://localhost:8080/"
        },
        "id": "hxYuEy4PYbAF",
        "outputId": "d2d350c5-c9f0-4a28-d73c-12685edc3c7f"
      },
      "execution_count": null,
      "outputs": [
        {
          "output_type": "stream",
          "name": "stdout",
          "text": [
            "Model Comparison:  {'unigram': 0.9977148080438757, 'bigram': 0.9977148080438757, 'trigram': 0.9977148080438757}\n"
          ]
        }
      ]
    },
    {
      "cell_type": "code",
      "source": [
        "import matplotlib.pyplot as plt\n",
        "import seaborn as sns"
      ],
      "metadata": {
        "id": "CAbbzcm-YiPv"
      },
      "execution_count": null,
      "outputs": []
    },
    {
      "cell_type": "code",
      "source": [
        "model_names = list(model_comparison.keys())\n",
        "accuracies = list(model_comparison.values())\n",
        "\n",
        "plt.figure(figsize=(10, 6))\n",
        "sns.barplot(x=model_names, y=accuracies)\n",
        "plt.title('Model Comparison: Autocomplete Accuracy')\n",
        "plt.xlabel('Model')\n",
        "plt.ylabel('Accuracy')\n",
        "plt.ylim(0, 1)\n",
        "plt.show()"
      ],
      "metadata": {
        "colab": {
          "base_uri": "https://localhost:8080/",
          "height": 564
        },
        "id": "wElBunhQYkhG",
        "outputId": "2883604d-50f3-469d-cef1-40498aa2c82b"
      },
      "execution_count": null,
      "outputs": [
        {
          "output_type": "display_data",
          "data": {
            "text/plain": [
              "<Figure size 1000x600 with 1 Axes>"
            ],
            "image/png": "[encoded data removed]"
          },
          "metadata": {}
        }
      ]
    },
    {
      "cell_type": "code",
      "source": [
        "feedback_categories = list(user_feedback.keys())\n",
        "feedback_scores = list(user_feedback.values())\n",
        "\n",
        "plt.figure(figsize=(10, 6))\n",
        "sns.barplot(x=feedback_categories, y=feedback_scores)\n",
        "plt.title('User Feedback Scores')\n",
        "plt.xlabel('Category')\n",
        "plt.ylabel('Score')\n",
        "plt.ylim(0, 5)\n",
        "plt.show()"
      ],
      "metadata": {
        "colab": {
          "base_uri": "https://localhost:8080/",
          "height": 564
        },
        "id": "IgUsC-FOYo2T",
        "outputId": "1eb4fc50-bd6b-4f0d-d315-af0ab49541bb"
      },
      "execution_count": null,
      "outputs": [
        {
          "output_type": "display_data",
          "data": {
            "text/plain": [
              "<Figure size 1000x600 with 1 Axes>"
            ],
            "image/png": "[encoded data removed]"
          },
          "metadata": {}
        }
      ]
    }
  ]
}